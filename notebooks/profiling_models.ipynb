{
 "cells": [
  {
   "cell_type": "code",
   "execution_count": 2,
   "metadata": {},
   "outputs": [],
   "source": [
    "import sys  \n",
    "sys.path.append('../')\n",
    "import warnings\n",
    "warnings.filterwarnings('ignore')\n",
    "\n",
    "import matplotlib.pyplot as plt\n",
    "import numpy as np\n",
    "import pandas as pd\n",
    "from sklearn.linear_model import (BayesianRidge, ElasticNet, ElasticNetCV, Lasso, LassoCV,\n",
    "        LinearRegression)\n",
    "from sklearn.metrics import mean_squared_error, r2_score\n",
    "from sklearn.model_selection import train_test_split\n",
    "\n",
    "from src.helpers.cross_validation import forward_walk_splitter\n",
    "\n",
    "from src.models.crmp import CRMP"
   ]
  },
  {
   "cell_type": "code",
   "execution_count": 3,
   "metadata": {},
   "outputs": [],
   "source": [
    "df = pd.read_csv('sample_data.csv')"
   ]
  },
  {
   "cell_type": "code",
   "execution_count": 4,
   "metadata": {},
   "outputs": [],
   "source": [
    "time = df['Time'].to_numpy()\n",
    "\n",
    "inj1 = df['Fixed_inj1'].to_numpy()\n",
    "inj2 = df['Fixed_inj2'].to_numpy()\n",
    "\n",
    "prod1 = df['Prod1'].to_numpy()\n",
    "prod2 = df['Prod2'].to_numpy()\n",
    "prod3 = df['Prod3'].to_numpy()\n",
    "prod4 = df['Prod4'].to_numpy()\n",
    "\n",
    "X = np.array([prod1[:-1], inj1[:-1], inj2[:-1]]).T\n",
    "y = prod1[1:]\n",
    "\n",
    "train_split, test_split, train_test_seperation_idx = forward_walk_splitter(X, y, 2)\n",
    "X_train = X[:train_test_seperation_idx]\n",
    "y_train = y[:train_test_seperation_idx]\n",
    "X_test = X[train_test_seperation_idx:]"
   ]
  },
  {
   "cell_type": "code",
   "execution_count": 16,
   "metadata": {},
   "outputs": [
    {
     "name": "stdout",
     "output_type": "stream",
     "text": [
      " "
     ]
    }
   ],
   "source": [
    "%%prun\n",
    "\n",
    "crmp = CRMP().fit(X_train, y_train)\n",
    "y_hat = crmp.predict(X_test)"
   ]
  },
  {
   "cell_type": "code",
   "execution_count": 10,
   "metadata": {},
   "outputs": [
    {
     "name": "stdout",
     "output_type": "stream",
     "text": [
      "453 µs ± 6.17 µs per loop (mean ± std. dev. of 7 runs, 1000 loops each)\n"
     ]
    }
   ],
   "source": [
    "%%timeit\n",
    "\n",
    "model = BayesianRidge().fit(X_train, y_train)\n",
    "y_hat = model.predict(X_test)"
   ]
  },
  {
   "cell_type": "code",
   "execution_count": 40,
   "metadata": {},
   "outputs": [
    {
     "name": "stdout",
     "output_type": "stream",
     "text": [
      "288 µs ± 22 µs per loop (mean ± std. dev. of 7 runs, 1000 loops each)\n"
     ]
    }
   ],
   "source": [
    "%%timeit\n",
    "\n",
    "model = LinearRegression().fit(X_train, y_train)\n",
    "y_hat = model.predict(X_test)"
   ]
  }
 ],
 "metadata": {
  "kernelspec": {
   "display_name": "Python 3",
   "language": "python",
   "name": "python3"
  },
  "language_info": {
   "codemirror_mode": {
    "name": "ipython",
    "version": 3
   },
   "file_extension": ".py",
   "mimetype": "text/x-python",
   "name": "python",
   "nbconvert_exporter": "python",
   "pygments_lexer": "ipython3",
   "version": "3.8.1"
  }
 },
 "nbformat": 4,
 "nbformat_minor": 4
}
